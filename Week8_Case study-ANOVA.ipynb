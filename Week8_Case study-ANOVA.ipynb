{
 "cells": [
  {
   "cell_type": "code",
   "execution_count": 1,
   "id": "ea2f2c21",
   "metadata": {},
   "outputs": [],
   "source": [
    "import numpy as np\n",
    "import pandas as pd\n",
    "import matplotlib.pyplot as plt\n",
    "import seaborn as sns\n",
    "import scipy.stats as stats\n",
    "import pingouin as pg"
   ]
  },
  {
   "cell_type": "code",
   "execution_count": 2,
   "id": "63702aa4",
   "metadata": {},
   "outputs": [],
   "source": [
    "Sales_zone=pd.read_csv(r\"D:\\DSA - ICT\\Week 8\\Case study\\Sales_data_zone_wise.csv\")"
   ]
  },
  {
   "cell_type": "code",
   "execution_count": 3,
   "id": "9c328616",
   "metadata": {},
   "outputs": [
    {
     "data": {
      "text/html": [
       "<div>\n",
       "<style scoped>\n",
       "    .dataframe tbody tr th:only-of-type {\n",
       "        vertical-align: middle;\n",
       "    }\n",
       "\n",
       "    .dataframe tbody tr th {\n",
       "        vertical-align: top;\n",
       "    }\n",
       "\n",
       "    .dataframe thead th {\n",
       "        text-align: right;\n",
       "    }\n",
       "</style>\n",
       "<table border=\"1\" class=\"dataframe\">\n",
       "  <thead>\n",
       "    <tr style=\"text-align: right;\">\n",
       "      <th></th>\n",
       "      <th>Month</th>\n",
       "      <th>Zone - A</th>\n",
       "      <th>Zone - B</th>\n",
       "      <th>Zone - C</th>\n",
       "    </tr>\n",
       "  </thead>\n",
       "  <tbody>\n",
       "    <tr>\n",
       "      <th>0</th>\n",
       "      <td>Month - 1</td>\n",
       "      <td>1483525</td>\n",
       "      <td>1748451</td>\n",
       "      <td>1523308</td>\n",
       "    </tr>\n",
       "    <tr>\n",
       "      <th>1</th>\n",
       "      <td>Month - 2</td>\n",
       "      <td>1238428</td>\n",
       "      <td>1707421</td>\n",
       "      <td>2212113</td>\n",
       "    </tr>\n",
       "    <tr>\n",
       "      <th>2</th>\n",
       "      <td>Month - 3</td>\n",
       "      <td>1860771</td>\n",
       "      <td>2091194</td>\n",
       "      <td>1282374</td>\n",
       "    </tr>\n",
       "    <tr>\n",
       "      <th>3</th>\n",
       "      <td>Month - 4</td>\n",
       "      <td>1871571</td>\n",
       "      <td>1759617</td>\n",
       "      <td>2290580</td>\n",
       "    </tr>\n",
       "    <tr>\n",
       "      <th>4</th>\n",
       "      <td>Month - 5</td>\n",
       "      <td>1244922</td>\n",
       "      <td>1606010</td>\n",
       "      <td>1818334</td>\n",
       "    </tr>\n",
       "    <tr>\n",
       "      <th>5</th>\n",
       "      <td>Month - 6</td>\n",
       "      <td>1534390</td>\n",
       "      <td>1573128</td>\n",
       "      <td>1751825</td>\n",
       "    </tr>\n",
       "    <tr>\n",
       "      <th>6</th>\n",
       "      <td>Month - 7</td>\n",
       "      <td>1820196</td>\n",
       "      <td>1992031</td>\n",
       "      <td>1786826</td>\n",
       "    </tr>\n",
       "    <tr>\n",
       "      <th>7</th>\n",
       "      <td>Month - 8</td>\n",
       "      <td>1625696</td>\n",
       "      <td>1665534</td>\n",
       "      <td>2161754</td>\n",
       "    </tr>\n",
       "    <tr>\n",
       "      <th>8</th>\n",
       "      <td>Month - 9</td>\n",
       "      <td>1652644</td>\n",
       "      <td>1873402</td>\n",
       "      <td>1755290</td>\n",
       "    </tr>\n",
       "    <tr>\n",
       "      <th>9</th>\n",
       "      <td>Month - 10</td>\n",
       "      <td>1852450</td>\n",
       "      <td>1913059</td>\n",
       "      <td>1754314</td>\n",
       "    </tr>\n",
       "    <tr>\n",
       "      <th>10</th>\n",
       "      <td>Month - 11</td>\n",
       "      <td>2004480</td>\n",
       "      <td>1740365</td>\n",
       "      <td>1317869</td>\n",
       "    </tr>\n",
       "    <tr>\n",
       "      <th>11</th>\n",
       "      <td>Month - 12</td>\n",
       "      <td>1537539</td>\n",
       "      <td>1875658</td>\n",
       "      <td>1237722</td>\n",
       "    </tr>\n",
       "    <tr>\n",
       "      <th>12</th>\n",
       "      <td>Month - 13</td>\n",
       "      <td>1254939</td>\n",
       "      <td>1588473</td>\n",
       "      <td>1348629</td>\n",
       "    </tr>\n",
       "    <tr>\n",
       "      <th>13</th>\n",
       "      <td>Month - 14</td>\n",
       "      <td>1821799</td>\n",
       "      <td>1844081</td>\n",
       "      <td>1617376</td>\n",
       "    </tr>\n",
       "    <tr>\n",
       "      <th>14</th>\n",
       "      <td>Month - 15</td>\n",
       "      <td>1128185</td>\n",
       "      <td>1804613</td>\n",
       "      <td>1767047</td>\n",
       "    </tr>\n",
       "    <tr>\n",
       "      <th>15</th>\n",
       "      <td>Month - 16</td>\n",
       "      <td>1491534</td>\n",
       "      <td>1542053</td>\n",
       "      <td>1882159</td>\n",
       "    </tr>\n",
       "    <tr>\n",
       "      <th>16</th>\n",
       "      <td>Month - 17</td>\n",
       "      <td>1182110</td>\n",
       "      <td>1552388</td>\n",
       "      <td>2234469</td>\n",
       "    </tr>\n",
       "    <tr>\n",
       "      <th>17</th>\n",
       "      <td>Month - 18</td>\n",
       "      <td>1770324</td>\n",
       "      <td>1699213</td>\n",
       "      <td>1249821</td>\n",
       "    </tr>\n",
       "    <tr>\n",
       "      <th>18</th>\n",
       "      <td>Month - 19</td>\n",
       "      <td>1181635</td>\n",
       "      <td>1959268</td>\n",
       "      <td>2009168</td>\n",
       "    </tr>\n",
       "    <tr>\n",
       "      <th>19</th>\n",
       "      <td>Month - 20</td>\n",
       "      <td>1305972</td>\n",
       "      <td>1559670</td>\n",
       "      <td>2107949</td>\n",
       "    </tr>\n",
       "    <tr>\n",
       "      <th>20</th>\n",
       "      <td>Month - 21</td>\n",
       "      <td>1570152</td>\n",
       "      <td>2013615</td>\n",
       "      <td>1540016</td>\n",
       "    </tr>\n",
       "    <tr>\n",
       "      <th>21</th>\n",
       "      <td>Month - 22</td>\n",
       "      <td>1481619</td>\n",
       "      <td>1527574</td>\n",
       "      <td>2255729</td>\n",
       "    </tr>\n",
       "    <tr>\n",
       "      <th>22</th>\n",
       "      <td>Month - 23</td>\n",
       "      <td>1887694</td>\n",
       "      <td>1992155</td>\n",
       "      <td>1348387</td>\n",
       "    </tr>\n",
       "    <tr>\n",
       "      <th>23</th>\n",
       "      <td>Month - 24</td>\n",
       "      <td>1880820</td>\n",
       "      <td>1752873</td>\n",
       "      <td>2098463</td>\n",
       "    </tr>\n",
       "    <tr>\n",
       "      <th>24</th>\n",
       "      <td>Month - 25</td>\n",
       "      <td>1256333</td>\n",
       "      <td>1622671</td>\n",
       "      <td>1521792</td>\n",
       "    </tr>\n",
       "    <tr>\n",
       "      <th>25</th>\n",
       "      <td>Month - 26</td>\n",
       "      <td>1422853</td>\n",
       "      <td>1715465</td>\n",
       "      <td>1853636</td>\n",
       "    </tr>\n",
       "    <tr>\n",
       "      <th>26</th>\n",
       "      <td>Month - 27</td>\n",
       "      <td>1384426</td>\n",
       "      <td>1983163</td>\n",
       "      <td>1611169</td>\n",
       "    </tr>\n",
       "    <tr>\n",
       "      <th>27</th>\n",
       "      <td>Month - 28</td>\n",
       "      <td>1616640</td>\n",
       "      <td>1547991</td>\n",
       "      <td>2128022</td>\n",
       "    </tr>\n",
       "    <tr>\n",
       "      <th>28</th>\n",
       "      <td>Month - 29</td>\n",
       "      <td>1310654</td>\n",
       "      <td>1660092</td>\n",
       "      <td>1947119</td>\n",
       "    </tr>\n",
       "  </tbody>\n",
       "</table>\n",
       "</div>"
      ],
      "text/plain": [
       "         Month  Zone - A  Zone - B  Zone - C\n",
       "0    Month - 1   1483525   1748451   1523308\n",
       "1    Month - 2   1238428   1707421   2212113\n",
       "2    Month - 3   1860771   2091194   1282374\n",
       "3    Month - 4   1871571   1759617   2290580\n",
       "4    Month - 5   1244922   1606010   1818334\n",
       "5    Month - 6   1534390   1573128   1751825\n",
       "6    Month - 7   1820196   1992031   1786826\n",
       "7    Month - 8   1625696   1665534   2161754\n",
       "8    Month - 9   1652644   1873402   1755290\n",
       "9   Month - 10   1852450   1913059   1754314\n",
       "10  Month - 11   2004480   1740365   1317869\n",
       "11  Month - 12   1537539   1875658   1237722\n",
       "12  Month - 13   1254939   1588473   1348629\n",
       "13  Month - 14   1821799   1844081   1617376\n",
       "14  Month - 15   1128185   1804613   1767047\n",
       "15  Month - 16   1491534   1542053   1882159\n",
       "16  Month - 17   1182110   1552388   2234469\n",
       "17  Month - 18   1770324   1699213   1249821\n",
       "18  Month - 19   1181635   1959268   2009168\n",
       "19  Month - 20   1305972   1559670   2107949\n",
       "20  Month - 21   1570152   2013615   1540016\n",
       "21  Month - 22   1481619   1527574   2255729\n",
       "22  Month - 23   1887694   1992155   1348387\n",
       "23  Month - 24   1880820   1752873   2098463\n",
       "24  Month - 25   1256333   1622671   1521792\n",
       "25  Month - 26   1422853   1715465   1853636\n",
       "26  Month - 27   1384426   1983163   1611169\n",
       "27  Month - 28   1616640   1547991   2128022\n",
       "28  Month - 29   1310654   1660092   1947119"
      ]
     },
     "execution_count": 3,
     "metadata": {},
     "output_type": "execute_result"
    }
   ],
   "source": [
    "Sales_zone.iloc[:,0:4]"
   ]
  },
  {
   "cell_type": "code",
   "execution_count": 4,
   "id": "46a82aaa",
   "metadata": {},
   "outputs": [
    {
     "data": {
      "text/html": [
       "<div>\n",
       "<style scoped>\n",
       "    .dataframe tbody tr th:only-of-type {\n",
       "        vertical-align: middle;\n",
       "    }\n",
       "\n",
       "    .dataframe tbody tr th {\n",
       "        vertical-align: top;\n",
       "    }\n",
       "\n",
       "    .dataframe thead th {\n",
       "        text-align: right;\n",
       "    }\n",
       "</style>\n",
       "<table border=\"1\" class=\"dataframe\">\n",
       "  <thead>\n",
       "    <tr style=\"text-align: right;\">\n",
       "      <th></th>\n",
       "      <th>Zone - A</th>\n",
       "      <th>Zone - B</th>\n",
       "      <th>Zone - C</th>\n",
       "      <th>Zone - D</th>\n",
       "    </tr>\n",
       "  </thead>\n",
       "  <tbody>\n",
       "    <tr>\n",
       "      <th>count</th>\n",
       "      <td>2.900000e+01</td>\n",
       "      <td>2.900000e+01</td>\n",
       "      <td>2.900000e+01</td>\n",
       "      <td>2.900000e+01</td>\n",
       "    </tr>\n",
       "    <tr>\n",
       "      <th>mean</th>\n",
       "      <td>1.540493e+06</td>\n",
       "      <td>1.755560e+06</td>\n",
       "      <td>1.772871e+06</td>\n",
       "      <td>1.842927e+06</td>\n",
       "    </tr>\n",
       "    <tr>\n",
       "      <th>std</th>\n",
       "      <td>2.619401e+05</td>\n",
       "      <td>1.683899e+05</td>\n",
       "      <td>3.331937e+05</td>\n",
       "      <td>3.750165e+05</td>\n",
       "    </tr>\n",
       "    <tr>\n",
       "      <th>min</th>\n",
       "      <td>1.128185e+06</td>\n",
       "      <td>1.527574e+06</td>\n",
       "      <td>1.237722e+06</td>\n",
       "      <td>1.234311e+06</td>\n",
       "    </tr>\n",
       "    <tr>\n",
       "      <th>25%</th>\n",
       "      <td>1.305972e+06</td>\n",
       "      <td>1.606010e+06</td>\n",
       "      <td>1.523308e+06</td>\n",
       "      <td>1.520406e+06</td>\n",
       "    </tr>\n",
       "    <tr>\n",
       "      <th>50%</th>\n",
       "      <td>1.534390e+06</td>\n",
       "      <td>1.740365e+06</td>\n",
       "      <td>1.767047e+06</td>\n",
       "      <td>1.854412e+06</td>\n",
       "    </tr>\n",
       "    <tr>\n",
       "      <th>75%</th>\n",
       "      <td>1.820196e+06</td>\n",
       "      <td>1.875658e+06</td>\n",
       "      <td>2.098463e+06</td>\n",
       "      <td>2.180416e+06</td>\n",
       "    </tr>\n",
       "    <tr>\n",
       "      <th>max</th>\n",
       "      <td>2.004480e+06</td>\n",
       "      <td>2.091194e+06</td>\n",
       "      <td>2.290580e+06</td>\n",
       "      <td>2.364132e+06</td>\n",
       "    </tr>\n",
       "  </tbody>\n",
       "</table>\n",
       "</div>"
      ],
      "text/plain": [
       "           Zone - A      Zone - B      Zone - C      Zone - D\n",
       "count  2.900000e+01  2.900000e+01  2.900000e+01  2.900000e+01\n",
       "mean   1.540493e+06  1.755560e+06  1.772871e+06  1.842927e+06\n",
       "std    2.619401e+05  1.683899e+05  3.331937e+05  3.750165e+05\n",
       "min    1.128185e+06  1.527574e+06  1.237722e+06  1.234311e+06\n",
       "25%    1.305972e+06  1.606010e+06  1.523308e+06  1.520406e+06\n",
       "50%    1.534390e+06  1.740365e+06  1.767047e+06  1.854412e+06\n",
       "75%    1.820196e+06  1.875658e+06  2.098463e+06  2.180416e+06\n",
       "max    2.004480e+06  2.091194e+06  2.290580e+06  2.364132e+06"
      ]
     },
     "execution_count": 4,
     "metadata": {},
     "output_type": "execute_result"
    }
   ],
   "source": [
    "Sales_zone.describe().iloc[:,0:4]"
   ]
  },
  {
   "cell_type": "code",
   "execution_count": 5,
   "id": "57644e6b",
   "metadata": {},
   "outputs": [],
   "source": [
    "#Question 1- Mean sales - Zone wise"
   ]
  },
  {
   "cell_type": "code",
   "execution_count": 6,
   "id": "8ed1eccd",
   "metadata": {},
   "outputs": [
    {
     "data": {
      "text/html": [
       "<div>\n",
       "<style scoped>\n",
       "    .dataframe tbody tr th:only-of-type {\n",
       "        vertical-align: middle;\n",
       "    }\n",
       "\n",
       "    .dataframe tbody tr th {\n",
       "        vertical-align: top;\n",
       "    }\n",
       "\n",
       "    .dataframe thead th {\n",
       "        text-align: right;\n",
       "    }\n",
       "</style>\n",
       "<table border=\"1\" class=\"dataframe\">\n",
       "  <thead>\n",
       "    <tr style=\"text-align: right;\">\n",
       "      <th></th>\n",
       "      <th>mean</th>\n",
       "    </tr>\n",
       "  </thead>\n",
       "  <tbody>\n",
       "    <tr>\n",
       "      <th>Zone - A</th>\n",
       "      <td>1.540493e+06</td>\n",
       "    </tr>\n",
       "    <tr>\n",
       "      <th>Zone - B</th>\n",
       "      <td>1.755560e+06</td>\n",
       "    </tr>\n",
       "    <tr>\n",
       "      <th>Zone - C</th>\n",
       "      <td>1.772871e+06</td>\n",
       "    </tr>\n",
       "    <tr>\n",
       "      <th>Zone - D</th>\n",
       "      <td>1.842927e+06</td>\n",
       "    </tr>\n",
       "  </tbody>\n",
       "</table>\n",
       "</div>"
      ],
      "text/plain": [
       "                  mean\n",
       "Zone - A  1.540493e+06\n",
       "Zone - B  1.755560e+06\n",
       "Zone - C  1.772871e+06\n",
       "Zone - D  1.842927e+06"
      ]
     },
     "execution_count": 6,
     "metadata": {},
     "output_type": "execute_result"
    }
   ],
   "source": [
    "Mean_sales=Sales_zone.describe().loc[\"mean\",\"Zone - A\":\"Zone - D\"].to_frame()\n",
    "Mean_sales"
   ]
  },
  {
   "cell_type": "code",
   "execution_count": 7,
   "id": "375323da",
   "metadata": {},
   "outputs": [
    {
     "data": {
      "image/png": "[encoded data removed]",
      "text/plain": [
       "<Figure size 432x288 with 1 Axes>"
      ]
     },
     "metadata": {
      "needs_background": "light"
     },
     "output_type": "display_data"
    }
   ],
   "source": [
    "sns.barplot(x=Mean_sales.index,y=Mean_sales[\"mean\"])\n",
    "plt.title(\"Mean sales - Zone wise\")\n",
    "plt.grid(linestyle=\"--\")\n",
    "plt.show()"
   ]
  },
  {
   "cell_type": "code",
   "execution_count": 8,
   "id": "b6e9b88d",
   "metadata": {},
   "outputs": [],
   "source": [
    "#Question 2-  Total sales generated by all the zones for each month"
   ]
  },
  {
   "cell_type": "code",
   "execution_count": 9,
   "id": "46953285",
   "metadata": {},
   "outputs": [
    {
     "data": {
      "text/html": [
       "<div>\n",
       "<style scoped>\n",
       "    .dataframe tbody tr th:only-of-type {\n",
       "        vertical-align: middle;\n",
       "    }\n",
       "\n",
       "    .dataframe tbody tr th {\n",
       "        vertical-align: top;\n",
       "    }\n",
       "\n",
       "    .dataframe thead th {\n",
       "        text-align: right;\n",
       "    }\n",
       "</style>\n",
       "<table border=\"1\" class=\"dataframe\">\n",
       "  <thead>\n",
       "    <tr style=\"text-align: right;\">\n",
       "      <th></th>\n",
       "      <th>Month</th>\n",
       "      <th>Zone - A</th>\n",
       "      <th>Zone - B</th>\n",
       "      <th>Zone - C</th>\n",
       "      <th>Zone - D</th>\n",
       "      <th>Total sales</th>\n",
       "    </tr>\n",
       "  </thead>\n",
       "  <tbody>\n",
       "    <tr>\n",
       "      <th>0</th>\n",
       "      <td>Month - 1</td>\n",
       "      <td>1483525</td>\n",
       "      <td>1748451</td>\n",
       "      <td>1523308</td>\n",
       "      <td>2267260</td>\n",
       "      <td>7022544</td>\n",
       "    </tr>\n",
       "    <tr>\n",
       "      <th>1</th>\n",
       "      <td>Month - 2</td>\n",
       "      <td>1238428</td>\n",
       "      <td>1707421</td>\n",
       "      <td>2212113</td>\n",
       "      <td>1994341</td>\n",
       "      <td>7152303</td>\n",
       "    </tr>\n",
       "    <tr>\n",
       "      <th>2</th>\n",
       "      <td>Month - 3</td>\n",
       "      <td>1860771</td>\n",
       "      <td>2091194</td>\n",
       "      <td>1282374</td>\n",
       "      <td>1241600</td>\n",
       "      <td>6475939</td>\n",
       "    </tr>\n",
       "    <tr>\n",
       "      <th>3</th>\n",
       "      <td>Month - 4</td>\n",
       "      <td>1871571</td>\n",
       "      <td>1759617</td>\n",
       "      <td>2290580</td>\n",
       "      <td>2252681</td>\n",
       "      <td>8174449</td>\n",
       "    </tr>\n",
       "    <tr>\n",
       "      <th>4</th>\n",
       "      <td>Month - 5</td>\n",
       "      <td>1244922</td>\n",
       "      <td>1606010</td>\n",
       "      <td>1818334</td>\n",
       "      <td>1326062</td>\n",
       "      <td>5995328</td>\n",
       "    </tr>\n",
       "  </tbody>\n",
       "</table>\n",
       "</div>"
      ],
      "text/plain": [
       "       Month  Zone - A  Zone - B  Zone - C  Zone - D  Total sales\n",
       "0  Month - 1   1483525   1748451   1523308   2267260      7022544\n",
       "1  Month - 2   1238428   1707421   2212113   1994341      7152303\n",
       "2  Month - 3   1860771   2091194   1282374   1241600      6475939\n",
       "3  Month - 4   1871571   1759617   2290580   2252681      8174449\n",
       "4  Month - 5   1244922   1606010   1818334   1326062      5995328"
      ]
     },
     "execution_count": 9,
     "metadata": {},
     "output_type": "execute_result"
    }
   ],
   "source": [
    "Sales_zone[\"Total sales\"]=Sales_zone.iloc[:,1:5].sum(axis=1)\n",
    "Sales_zone.head()"
   ]
  },
  {
   "cell_type": "code",
   "execution_count": 10,
   "id": "f8debb2e",
   "metadata": {},
   "outputs": [
    {
     "data": {
      "text/html": [
       "<div>\n",
       "<style scoped>\n",
       "    .dataframe tbody tr th:only-of-type {\n",
       "        vertical-align: middle;\n",
       "    }\n",
       "\n",
       "    .dataframe tbody tr th {\n",
       "        vertical-align: top;\n",
       "    }\n",
       "\n",
       "    .dataframe thead th {\n",
       "        text-align: right;\n",
       "    }\n",
       "</style>\n",
       "<table border=\"1\" class=\"dataframe\">\n",
       "  <thead>\n",
       "    <tr style=\"text-align: right;\">\n",
       "      <th></th>\n",
       "      <th>Month</th>\n",
       "      <th>Total sales</th>\n",
       "    </tr>\n",
       "  </thead>\n",
       "  <tbody>\n",
       "    <tr>\n",
       "      <th>0</th>\n",
       "      <td>Month - 1</td>\n",
       "      <td>7022544</td>\n",
       "    </tr>\n",
       "    <tr>\n",
       "      <th>1</th>\n",
       "      <td>Month - 2</td>\n",
       "      <td>7152303</td>\n",
       "    </tr>\n",
       "    <tr>\n",
       "      <th>2</th>\n",
       "      <td>Month - 3</td>\n",
       "      <td>6475939</td>\n",
       "    </tr>\n",
       "    <tr>\n",
       "      <th>3</th>\n",
       "      <td>Month - 4</td>\n",
       "      <td>8174449</td>\n",
       "    </tr>\n",
       "    <tr>\n",
       "      <th>4</th>\n",
       "      <td>Month - 5</td>\n",
       "      <td>5995328</td>\n",
       "    </tr>\n",
       "    <tr>\n",
       "      <th>5</th>\n",
       "      <td>Month - 6</td>\n",
       "      <td>7151387</td>\n",
       "    </tr>\n",
       "    <tr>\n",
       "      <th>6</th>\n",
       "      <td>Month - 7</td>\n",
       "      <td>7287108</td>\n",
       "    </tr>\n",
       "    <tr>\n",
       "      <th>7</th>\n",
       "      <td>Month - 8</td>\n",
       "      <td>7816299</td>\n",
       "    </tr>\n",
       "    <tr>\n",
       "      <th>8</th>\n",
       "      <td>Month - 9</td>\n",
       "      <td>6703395</td>\n",
       "    </tr>\n",
       "    <tr>\n",
       "      <th>9</th>\n",
       "      <td>Month - 10</td>\n",
       "      <td>7128210</td>\n",
       "    </tr>\n",
       "    <tr>\n",
       "      <th>10</th>\n",
       "      <td>Month - 11</td>\n",
       "      <td>7032783</td>\n",
       "    </tr>\n",
       "    <tr>\n",
       "      <th>11</th>\n",
       "      <td>Month - 12</td>\n",
       "      <td>6111084</td>\n",
       "    </tr>\n",
       "    <tr>\n",
       "      <th>12</th>\n",
       "      <td>Month - 13</td>\n",
       "      <td>5925424</td>\n",
       "    </tr>\n",
       "    <tr>\n",
       "      <th>13</th>\n",
       "      <td>Month - 14</td>\n",
       "      <td>7155515</td>\n",
       "    </tr>\n",
       "    <tr>\n",
       "      <th>14</th>\n",
       "      <td>Month - 15</td>\n",
       "      <td>5934156</td>\n",
       "    </tr>\n",
       "    <tr>\n",
       "      <th>15</th>\n",
       "      <td>Month - 16</td>\n",
       "      <td>6506659</td>\n",
       "    </tr>\n",
       "    <tr>\n",
       "      <th>16</th>\n",
       "      <td>Month - 17</td>\n",
       "      <td>7149383</td>\n",
       "    </tr>\n",
       "    <tr>\n",
       "      <th>17</th>\n",
       "      <td>Month - 18</td>\n",
       "      <td>7083490</td>\n",
       "    </tr>\n",
       "    <tr>\n",
       "      <th>18</th>\n",
       "      <td>Month - 19</td>\n",
       "      <td>6971953</td>\n",
       "    </tr>\n",
       "    <tr>\n",
       "      <th>19</th>\n",
       "      <td>Month - 20</td>\n",
       "      <td>7124599</td>\n",
       "    </tr>\n",
       "    <tr>\n",
       "      <th>20</th>\n",
       "      <td>Month - 21</td>\n",
       "      <td>7389597</td>\n",
       "    </tr>\n",
       "    <tr>\n",
       "      <th>21</th>\n",
       "      <td>Month - 22</td>\n",
       "      <td>7560001</td>\n",
       "    </tr>\n",
       "    <tr>\n",
       "      <th>22</th>\n",
       "      <td>Month - 23</td>\n",
       "      <td>6687919</td>\n",
       "    </tr>\n",
       "    <tr>\n",
       "      <th>23</th>\n",
       "      <td>Month - 24</td>\n",
       "      <td>7784747</td>\n",
       "    </tr>\n",
       "    <tr>\n",
       "      <th>24</th>\n",
       "      <td>Month - 25</td>\n",
       "      <td>6095918</td>\n",
       "    </tr>\n",
       "    <tr>\n",
       "      <th>25</th>\n",
       "      <td>Month - 26</td>\n",
       "      <td>6512360</td>\n",
       "    </tr>\n",
       "    <tr>\n",
       "      <th>26</th>\n",
       "      <td>Month - 27</td>\n",
       "      <td>6267918</td>\n",
       "    </tr>\n",
       "    <tr>\n",
       "      <th>27</th>\n",
       "      <td>Month - 28</td>\n",
       "      <td>7470920</td>\n",
       "    </tr>\n",
       "    <tr>\n",
       "      <th>28</th>\n",
       "      <td>Month - 29</td>\n",
       "      <td>6772277</td>\n",
       "    </tr>\n",
       "  </tbody>\n",
       "</table>\n",
       "</div>"
      ],
      "text/plain": [
       "         Month  Total sales\n",
       "0    Month - 1      7022544\n",
       "1    Month - 2      7152303\n",
       "2    Month - 3      6475939\n",
       "3    Month - 4      8174449\n",
       "4    Month - 5      5995328\n",
       "5    Month - 6      7151387\n",
       "6    Month - 7      7287108\n",
       "7    Month - 8      7816299\n",
       "8    Month - 9      6703395\n",
       "9   Month - 10      7128210\n",
       "10  Month - 11      7032783\n",
       "11  Month - 12      6111084\n",
       "12  Month - 13      5925424\n",
       "13  Month - 14      7155515\n",
       "14  Month - 15      5934156\n",
       "15  Month - 16      6506659\n",
       "16  Month - 17      7149383\n",
       "17  Month - 18      7083490\n",
       "18  Month - 19      6971953\n",
       "19  Month - 20      7124599\n",
       "20  Month - 21      7389597\n",
       "21  Month - 22      7560001\n",
       "22  Month - 23      6687919\n",
       "23  Month - 24      7784747\n",
       "24  Month - 25      6095918\n",
       "25  Month - 26      6512360\n",
       "26  Month - 27      6267918\n",
       "27  Month - 28      7470920\n",
       "28  Month - 29      6772277"
      ]
     },
     "execution_count": 10,
     "metadata": {},
     "output_type": "execute_result"
    }
   ],
   "source": [
    "Sales_zone.loc[:,[\"Month\",\"Total sales\"]]"
   ]
  },
  {
   "cell_type": "code",
   "execution_count": 11,
   "id": "f0a67f06",
   "metadata": {},
   "outputs": [
    {
     "data": {
      "image/png": "[encoded data removed]",
      "text/plain": [
       "<Figure size 1080x720 with 1 Axes>"
      ]
     },
     "metadata": {
      "needs_background": "light"
     },
     "output_type": "display_data"
    }
   ],
   "source": [
    "plt.figure(figsize=(15,10))\n",
    "sns.barplot(x=\"Month\",y=\"Total sales\",data=Sales_zone.sort_values('Total sales',ascending=False))\n",
    "plt.xlabel(\"Month wise sales\",fontsize=15)\n",
    "plt.ylabel(\"Total sales of all zones\",fontsize=15)\n",
    "plt.title(\"Month wise total sales of all zone in decending order\",fontsize=15)\n",
    "plt.xticks(rotation=90)\n",
    "plt.grid(linestyle=\"--\")\n",
    "plt.show()"
   ]
  },
  {
   "cell_type": "code",
   "execution_count": 12,
   "id": "64ed670d",
   "metadata": {},
   "outputs": [],
   "source": [
    "#Question 3-  Check whether all the zones generate the same amount of sales."
   ]
  },
  {
   "cell_type": "code",
   "execution_count": 13,
   "id": "6b63afed",
   "metadata": {},
   "outputs": [],
   "source": [
    "#Null hypothesis: All the zones generate the same amount of sales\n",
    "#Alternate hypothesis :All zones not generate the same amount of sales"
   ]
  },
  {
   "cell_type": "code",
   "execution_count": 14,
   "id": "d6ffaa4f",
   "metadata": {},
   "outputs": [],
   "source": [
    "ZoneA=Sales_zone[\"Zone - A\"]\n",
    "ZoneB=Sales_zone[\"Zone - B\"]\n",
    "ZoneC=Sales_zone[\"Zone - C\"]\n",
    "ZoneD=Sales_zone[\"Zone - D\"]"
   ]
  },
  {
   "cell_type": "code",
   "execution_count": 15,
   "id": "d8a77c41",
   "metadata": {},
   "outputs": [],
   "source": [
    "#Checking for normal distribution "
   ]
  },
  {
   "cell_type": "code",
   "execution_count": 16,
   "id": "ab51a5a8",
   "metadata": {},
   "outputs": [
    {
     "data": {
      "text/plain": [
       "ShapiroResult(statistic=0.9369863271713257, pvalue=0.08361761271953583)"
      ]
     },
     "execution_count": 16,
     "metadata": {},
     "output_type": "execute_result"
    }
   ],
   "source": [
    "stats.shapiro(ZoneA)"
   ]
  },
  {
   "cell_type": "code",
   "execution_count": 17,
   "id": "dd87ae20",
   "metadata": {},
   "outputs": [
    {
     "data": {
      "text/plain": [
       "ShapiroResult(statistic=0.9357458353042603, pvalue=0.0776052474975586)"
      ]
     },
     "execution_count": 17,
     "metadata": {},
     "output_type": "execute_result"
    }
   ],
   "source": [
    "stats.shapiro(ZoneB)"
   ]
  },
  {
   "cell_type": "code",
   "execution_count": 18,
   "id": "facd9806",
   "metadata": {},
   "outputs": [
    {
     "data": {
      "text/plain": [
       "ShapiroResult(statistic=0.9428116083145142, pvalue=0.11880273371934891)"
      ]
     },
     "execution_count": 18,
     "metadata": {},
     "output_type": "execute_result"
    }
   ],
   "source": [
    "stats.shapiro(ZoneC)"
   ]
  },
  {
   "cell_type": "code",
   "execution_count": 19,
   "id": "db2715cd",
   "metadata": {},
   "outputs": [
    {
     "data": {
      "text/plain": [
       "ShapiroResult(statistic=0.9255194664001465, pvalue=0.04216405004262924)"
      ]
     },
     "execution_count": 19,
     "metadata": {},
     "output_type": "execute_result"
    }
   ],
   "source": [
    "stats.shapiro(ZoneD)"
   ]
  },
  {
   "cell_type": "code",
   "execution_count": 20,
   "id": "58b71409",
   "metadata": {},
   "outputs": [],
   "source": [
    "#Here in all Zones except D , the p value is greater than 0.05 and follow normal distribution\n",
    "#Zone-D p value is less than 0.05 , Hence not follow Normal Distibution "
   ]
  },
  {
   "cell_type": "code",
   "execution_count": 21,
   "id": "e6877fd3",
   "metadata": {},
   "outputs": [],
   "source": [
    "#Check for equal variance - we can use Bartlett if normal distribution is followed or Levene if not in normal distribution"
   ]
  },
  {
   "cell_type": "code",
   "execution_count": 22,
   "id": "8c6abc62",
   "metadata": {},
   "outputs": [
    {
     "data": {
      "text/plain": [
       "LeveneResult(statistic=7.880137126484079, pvalue=8.119702253594172e-05)"
      ]
     },
     "execution_count": 22,
     "metadata": {},
     "output_type": "execute_result"
    }
   ],
   "source": [
    "stats.levene(ZoneA,ZoneB,ZoneC,ZoneD)"
   ]
  },
  {
   "cell_type": "code",
   "execution_count": 23,
   "id": "68f473b9",
   "metadata": {},
   "outputs": [],
   "source": [
    "#Since P value less than 0.05 , we reject hypothessis of equal variance"
   ]
  },
  {
   "cell_type": "code",
   "execution_count": 24,
   "id": "0c6d4a4a",
   "metadata": {},
   "outputs": [],
   "source": [
    "SZ=pd.melt(Sales_zone.reset_index(), id_vars=['index'],value_vars=[\"Zone - A\",\"Zone - B\",\"Zone - C\",\"Zone - D\"])"
   ]
  },
  {
   "cell_type": "code",
   "execution_count": 25,
   "id": "f18925bb",
   "metadata": {},
   "outputs": [],
   "source": [
    "SZ.columns=[\"index\",\"Month\",\"value\"]"
   ]
  },
  {
   "cell_type": "code",
   "execution_count": 26,
   "id": "de20dbb7",
   "metadata": {},
   "outputs": [],
   "source": [
    "#Since unequal variance , we use the welch anova test using the pingouin function"
   ]
  },
  {
   "cell_type": "code",
   "execution_count": 27,
   "id": "26381ac2",
   "metadata": {},
   "outputs": [
    {
     "name": "stdout",
     "output_type": "stream",
     "text": [
      "   Source            SS   DF            MS         F     p-unc       np2\n",
      "0   Month  1.483058e+12    3  4.943525e+11  5.672056  0.001183  0.131892\n",
      "1  Within  9.761449e+12  112  8.715579e+10       NaN       NaN       NaN\n"
     ]
    }
   ],
   "source": [
    "av=pg.anova(data=SZ,dv=\"value\",between=\"Month\",detailed=True)\n",
    "print(av)"
   ]
  },
  {
   "cell_type": "code",
   "execution_count": 28,
   "id": "f1051c63",
   "metadata": {},
   "outputs": [],
   "source": [
    "#Since the p value is than alpha value of 0.05 , we reject the null hypothesis and confirm Zones dont generate equal sales"
   ]
  },
  {
   "cell_type": "code",
   "execution_count": 29,
   "id": "6ee1560e",
   "metadata": {},
   "outputs": [],
   "source": [
    "#Boxplot shows the distribution of sales of all the zones"
   ]
  },
  {
   "cell_type": "code",
   "execution_count": 30,
   "id": "81da8aa4",
   "metadata": {},
   "outputs": [
    {
     "data": {
      "text/plain": [
       "<AxesSubplot:xlabel='Month', ylabel='value'>"
      ]
     },
     "execution_count": 30,
     "metadata": {},
     "output_type": "execute_result"
    },
    {
     "data": {
      "image/png": "[encoded data removed]",
      "text/plain": [
       "<Figure size 432x288 with 1 Axes>"
      ]
     },
     "metadata": {
      "needs_background": "light"
     },
     "output_type": "display_data"
    }
   ],
   "source": [
    "sns.boxplot(x=\"Month\",y= \"value\",data=SZ)"
   ]
  },
  {
   "cell_type": "code",
   "execution_count": 31,
   "id": "2130f66b",
   "metadata": {},
   "outputs": [],
   "source": [
    "#Pie chart showing the sum of sales % - zone wise"
   ]
  },
  {
   "cell_type": "code",
   "execution_count": 32,
   "id": "64d7ecbe",
   "metadata": {},
   "outputs": [
    {
     "data": {
      "image/png": "[encoded data removed]",
      "text/plain": [
       "<Figure size 432x288 with 1 Axes>"
      ]
     },
     "metadata": {},
     "output_type": "display_data"
    }
   ],
   "source": [
    "Sales_zone[Sales_zone.columns[1:5]].sum().plot.pie(autopct = \"%1.2f%%\")\n",
    "plt.title(\"Zone wise Sales\")\n",
    "plt.show()"
   ]
  },
  {
   "cell_type": "code",
   "execution_count": 33,
   "id": "b092766e",
   "metadata": {},
   "outputs": [],
   "source": [
    "# From the box plot and Pie chart we can see that sales generated by all zones are not same \n",
    "#This confirms and matches with our hypothesis results"
   ]
  },
  {
   "cell_type": "code",
   "execution_count": null,
   "id": "a73337bc",
   "metadata": {},
   "outputs": [],
   "source": []
  },
  {
   "cell_type": "code",
   "execution_count": null,
   "id": "9cd28083",
   "metadata": {},
   "outputs": [],
   "source": []
  }
 ],
 "metadata": {
  "kernelspec": {
   "display_name": "Python 3 (ipykernel)",
   "language": "python",
   "name": "python3"
  },
  "language_info": {
   "codemirror_mode": {
    "name": "ipython",
    "version": 3
   },
   "file_extension": ".py",
   "mimetype": "text/x-python",
   "name": "python",
   "nbconvert_exporter": "python",
   "pygments_lexer": "ipython3",
   "version": "3.9.7"
  }
 },
 "nbformat": 4,
 "nbformat_minor": 5
}
