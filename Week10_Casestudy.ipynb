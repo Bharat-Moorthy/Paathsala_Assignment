{
 "cells": [
  {
   "cell_type": "code",
   "execution_count": 1,
   "id": "f83492dc",
   "metadata": {},
   "outputs": [],
   "source": [
    "import numpy as np\n",
    "import pandas as pd\n",
    "import matplotlib.pyplot as plt\n",
    "import seaborn as sns\n"
   ]
  },
  {
   "cell_type": "code",
   "execution_count": 2,
   "id": "4a3dc0fa",
   "metadata": {},
   "outputs": [],
   "source": [
    "#Read the file to into python"
   ]
  },
  {
   "cell_type": "code",
   "execution_count": 3,
   "id": "64d4c4b1",
   "metadata": {},
   "outputs": [],
   "source": [
    "Ad_Sale=pd.read_csv(r\"D:\\DSA - ICT\\Week 10\\Case study\\Add_sales_data_2018.csv\")"
   ]
  },
  {
   "cell_type": "code",
   "execution_count": 4,
   "id": "0c273791",
   "metadata": {},
   "outputs": [
    {
     "data": {
      "text/html": [
       "<div>\n",
       "<style scoped>\n",
       "    .dataframe tbody tr th:only-of-type {\n",
       "        vertical-align: middle;\n",
       "    }\n",
       "\n",
       "    .dataframe tbody tr th {\n",
       "        vertical-align: top;\n",
       "    }\n",
       "\n",
       "    .dataframe thead th {\n",
       "        text-align: right;\n",
       "    }\n",
       "</style>\n",
       "<table border=\"1\" class=\"dataframe\">\n",
       "  <thead>\n",
       "    <tr style=\"text-align: right;\">\n",
       "      <th></th>\n",
       "      <th>Date</th>\n",
       "      <th>Add1(in Thousands)</th>\n",
       "      <th>Add2(in Thousands)</th>\n",
       "      <th>Add3(in Thousands)</th>\n",
       "      <th>Add4(in Thousands)</th>\n",
       "      <th>Add5(in Thousands)</th>\n",
       "      <th>Profit(in Thousands)</th>\n",
       "    </tr>\n",
       "  </thead>\n",
       "  <tbody>\n",
       "    <tr>\n",
       "      <th>0</th>\n",
       "      <td>2018-10-08</td>\n",
       "      <td>208.00</td>\n",
       "      <td>222.25</td>\n",
       "      <td>206.85</td>\n",
       "      <td>216.00</td>\n",
       "      <td>215.15</td>\n",
       "      <td>4093.065</td>\n",
       "    </tr>\n",
       "    <tr>\n",
       "      <th>1</th>\n",
       "      <td>2018-10-05</td>\n",
       "      <td>217.00</td>\n",
       "      <td>218.60</td>\n",
       "      <td>205.90</td>\n",
       "      <td>210.25</td>\n",
       "      <td>209.20</td>\n",
       "      <td>4042.448</td>\n",
       "    </tr>\n",
       "    <tr>\n",
       "      <th>2</th>\n",
       "      <td>2018-10-04</td>\n",
       "      <td>223.50</td>\n",
       "      <td>227.80</td>\n",
       "      <td>216.15</td>\n",
       "      <td>217.25</td>\n",
       "      <td>218.20</td>\n",
       "      <td>4213.819</td>\n",
       "    </tr>\n",
       "    <tr>\n",
       "      <th>3</th>\n",
       "      <td>2018-10-03</td>\n",
       "      <td>230.00</td>\n",
       "      <td>237.50</td>\n",
       "      <td>225.75</td>\n",
       "      <td>226.45</td>\n",
       "      <td>227.60</td>\n",
       "      <td>4391.665</td>\n",
       "    </tr>\n",
       "    <tr>\n",
       "      <th>4</th>\n",
       "      <td>2018-10-01</td>\n",
       "      <td>234.55</td>\n",
       "      <td>234.60</td>\n",
       "      <td>221.05</td>\n",
       "      <td>230.30</td>\n",
       "      <td>230.90</td>\n",
       "      <td>4350.683</td>\n",
       "    </tr>\n",
       "  </tbody>\n",
       "</table>\n",
       "</div>"
      ],
      "text/plain": [
       "         Date  Add1(in Thousands)  Add2(in Thousands)  Add3(in Thousands)  \\\n",
       "0  2018-10-08              208.00              222.25              206.85   \n",
       "1  2018-10-05              217.00              218.60              205.90   \n",
       "2  2018-10-04              223.50              227.80              216.15   \n",
       "3  2018-10-03              230.00              237.50              225.75   \n",
       "4  2018-10-01              234.55              234.60              221.05   \n",
       "\n",
       "   Add4(in Thousands)  Add5(in Thousands)  Profit(in Thousands)  \n",
       "0              216.00              215.15              4093.065  \n",
       "1              210.25              209.20              4042.448  \n",
       "2              217.25              218.20              4213.819  \n",
       "3              226.45              227.60              4391.665  \n",
       "4              230.30              230.90              4350.683  "
      ]
     },
     "execution_count": 4,
     "metadata": {},
     "output_type": "execute_result"
    }
   ],
   "source": [
    "Ad_Sale.head()"
   ]
  },
  {
   "cell_type": "code",
   "execution_count": 5,
   "id": "6e7da1b9",
   "metadata": {},
   "outputs": [],
   "source": [
    "#Check the number of rows and columns"
   ]
  },
  {
   "cell_type": "code",
   "execution_count": 6,
   "id": "7938edc7",
   "metadata": {},
   "outputs": [
    {
     "data": {
      "text/plain": [
       "(205, 7)"
      ]
     },
     "execution_count": 6,
     "metadata": {},
     "output_type": "execute_result"
    }
   ],
   "source": [
    "Ad_Sale.shape"
   ]
  },
  {
   "cell_type": "code",
   "execution_count": 7,
   "id": "593fb0a1",
   "metadata": {},
   "outputs": [],
   "source": [
    "#Check basic details of the dataset"
   ]
  },
  {
   "cell_type": "code",
   "execution_count": 8,
   "id": "45598b01",
   "metadata": {},
   "outputs": [
    {
     "name": "stdout",
     "output_type": "stream",
     "text": [
      "<class 'pandas.core.frame.DataFrame'>\n",
      "RangeIndex: 205 entries, 0 to 204\n",
      "Data columns (total 7 columns):\n",
      " #   Column                Non-Null Count  Dtype  \n",
      "---  ------                --------------  -----  \n",
      " 0   Date                  205 non-null    object \n",
      " 1   Add1(in Thousands)    205 non-null    float64\n",
      " 2   Add2(in Thousands)    205 non-null    float64\n",
      " 3   Add3(in Thousands)    205 non-null    float64\n",
      " 4   Add4(in Thousands)    205 non-null    float64\n",
      " 5   Add5(in Thousands)    205 non-null    float64\n",
      " 6   Profit(in Thousands)  205 non-null    float64\n",
      "dtypes: float64(6), object(1)\n",
      "memory usage: 11.3+ KB\n"
     ]
    }
   ],
   "source": [
    "Ad_Sale.info()"
   ]
  },
  {
   "cell_type": "code",
   "execution_count": 9,
   "id": "2ee91e38",
   "metadata": {},
   "outputs": [
    {
     "data": {
      "text/plain": [
       "Date                    0\n",
       "Add1(in Thousands)      0\n",
       "Add2(in Thousands)      0\n",
       "Add3(in Thousands)      0\n",
       "Add4(in Thousands)      0\n",
       "Add5(in Thousands)      0\n",
       "Profit(in Thousands)    0\n",
       "dtype: int64"
      ]
     },
     "execution_count": 9,
     "metadata": {},
     "output_type": "execute_result"
    }
   ],
   "source": [
    "Ad_Sale.isnull().sum()"
   ]
  },
  {
   "cell_type": "code",
   "execution_count": 10,
   "id": "d4b1410e",
   "metadata": {},
   "outputs": [],
   "source": [
    "#There are no null values in the dataset"
   ]
  },
  {
   "cell_type": "code",
   "execution_count": 11,
   "id": "ae10a8d2",
   "metadata": {},
   "outputs": [],
   "source": [
    "#Check the statistical summary of the dataset"
   ]
  },
  {
   "cell_type": "code",
   "execution_count": 12,
   "id": "d42cd04b",
   "metadata": {},
   "outputs": [
    {
     "data": {
      "text/html": [
       "<div>\n",
       "<style scoped>\n",
       "    .dataframe tbody tr th:only-of-type {\n",
       "        vertical-align: middle;\n",
       "    }\n",
       "\n",
       "    .dataframe tbody tr th {\n",
       "        vertical-align: top;\n",
       "    }\n",
       "\n",
       "    .dataframe thead th {\n",
       "        text-align: right;\n",
       "    }\n",
       "</style>\n",
       "<table border=\"1\" class=\"dataframe\">\n",
       "  <thead>\n",
       "    <tr style=\"text-align: right;\">\n",
       "      <th></th>\n",
       "      <th>Add1(in Thousands)</th>\n",
       "      <th>Add2(in Thousands)</th>\n",
       "      <th>Add3(in Thousands)</th>\n",
       "      <th>Add4(in Thousands)</th>\n",
       "      <th>Add5(in Thousands)</th>\n",
       "      <th>Profit(in Thousands)</th>\n",
       "    </tr>\n",
       "  </thead>\n",
       "  <tbody>\n",
       "    <tr>\n",
       "      <th>count</th>\n",
       "      <td>205.000000</td>\n",
       "      <td>205.000000</td>\n",
       "      <td>205.000000</td>\n",
       "      <td>205.000000</td>\n",
       "      <td>205.000000</td>\n",
       "      <td>205.000000</td>\n",
       "    </tr>\n",
       "    <tr>\n",
       "      <th>mean</th>\n",
       "      <td>267.577561</td>\n",
       "      <td>271.722439</td>\n",
       "      <td>262.990732</td>\n",
       "      <td>267.223902</td>\n",
       "      <td>267.152683</td>\n",
       "      <td>5059.630234</td>\n",
       "    </tr>\n",
       "    <tr>\n",
       "      <th>std</th>\n",
       "      <td>26.219588</td>\n",
       "      <td>25.914939</td>\n",
       "      <td>26.126704</td>\n",
       "      <td>26.238832</td>\n",
       "      <td>26.215360</td>\n",
       "      <td>486.910414</td>\n",
       "    </tr>\n",
       "    <tr>\n",
       "      <th>min</th>\n",
       "      <td>208.000000</td>\n",
       "      <td>218.600000</td>\n",
       "      <td>205.900000</td>\n",
       "      <td>210.250000</td>\n",
       "      <td>209.200000</td>\n",
       "      <td>4042.448000</td>\n",
       "    </tr>\n",
       "    <tr>\n",
       "      <th>25%</th>\n",
       "      <td>244.000000</td>\n",
       "      <td>248.500000</td>\n",
       "      <td>240.300000</td>\n",
       "      <td>243.050000</td>\n",
       "      <td>243.000000</td>\n",
       "      <td>4617.695000</td>\n",
       "    </tr>\n",
       "    <tr>\n",
       "      <th>50%</th>\n",
       "      <td>269.700000</td>\n",
       "      <td>274.200000</td>\n",
       "      <td>263.250000</td>\n",
       "      <td>268.900000</td>\n",
       "      <td>268.350000</td>\n",
       "      <td>5088.455000</td>\n",
       "    </tr>\n",
       "    <tr>\n",
       "      <th>75%</th>\n",
       "      <td>284.400000</td>\n",
       "      <td>288.800000</td>\n",
       "      <td>280.900000</td>\n",
       "      <td>284.500000</td>\n",
       "      <td>284.450000</td>\n",
       "      <td>5387.438000</td>\n",
       "    </tr>\n",
       "    <tr>\n",
       "      <th>max</th>\n",
       "      <td>327.700000</td>\n",
       "      <td>328.750000</td>\n",
       "      <td>321.650000</td>\n",
       "      <td>325.950000</td>\n",
       "      <td>325.750000</td>\n",
       "      <td>6137.800000</td>\n",
       "    </tr>\n",
       "  </tbody>\n",
       "</table>\n",
       "</div>"
      ],
      "text/plain": [
       "       Add1(in Thousands)  Add2(in Thousands)  Add3(in Thousands)  \\\n",
       "count          205.000000          205.000000          205.000000   \n",
       "mean           267.577561          271.722439          262.990732   \n",
       "std             26.219588           25.914939           26.126704   \n",
       "min            208.000000          218.600000          205.900000   \n",
       "25%            244.000000          248.500000          240.300000   \n",
       "50%            269.700000          274.200000          263.250000   \n",
       "75%            284.400000          288.800000          280.900000   \n",
       "max            327.700000          328.750000          321.650000   \n",
       "\n",
       "       Add4(in Thousands)  Add5(in Thousands)  Profit(in Thousands)  \n",
       "count          205.000000          205.000000            205.000000  \n",
       "mean           267.223902          267.152683           5059.630234  \n",
       "std             26.238832           26.215360            486.910414  \n",
       "min            210.250000          209.200000           4042.448000  \n",
       "25%            243.050000          243.000000           4617.695000  \n",
       "50%            268.900000          268.350000           5088.455000  \n",
       "75%            284.500000          284.450000           5387.438000  \n",
       "max            325.950000          325.750000           6137.800000  "
      ]
     },
     "execution_count": 12,
     "metadata": {},
     "output_type": "execute_result"
    }
   ],
   "source": [
    "Ad_Sale.describe()"
   ]
  },
  {
   "cell_type": "code",
   "execution_count": 13,
   "id": "efbcb287",
   "metadata": {},
   "outputs": [],
   "source": [
    "#Check for the distribution "
   ]
  },
  {
   "cell_type": "code",
   "execution_count": 14,
   "id": "d4284fbb",
   "metadata": {},
   "outputs": [
    {
     "data": {
      "image/png": "[encoded data removed]",
      "text/plain": [
       "<Figure size 1080x1080 with 6 Axes>"
      ]
     },
     "metadata": {
      "needs_background": "light"
     },
     "output_type": "display_data"
    }
   ],
   "source": [
    "Ad_Sale.hist(figsize=(15,15))\n",
    "plt.show()"
   ]
  },
  {
   "cell_type": "code",
   "execution_count": 15,
   "id": "4ee8ecb3",
   "metadata": {},
   "outputs": [],
   "source": [
    "#All the data seems to be normally distributed"
   ]
  },
  {
   "cell_type": "code",
   "execution_count": 16,
   "id": "ce3b023a",
   "metadata": {},
   "outputs": [],
   "source": [
    "#Check for any outliers in the dataset"
   ]
  },
  {
   "cell_type": "code",
   "execution_count": 17,
   "id": "6309ea9c",
   "metadata": {},
   "outputs": [
    {
     "data": {
      "image/png": "[encoded data removed]",
      "text/plain": [
       "<Figure size 432x288 with 1 Axes>"
      ]
     },
     "metadata": {
      "needs_background": "light"
     },
     "output_type": "display_data"
    }
   ],
   "source": [
    "plt.figsize=(15,15)\n",
    "Dep_var = Ad_Sale.loc[:,[\"Add1(in Thousands)\",\"Add2(in Thousands)\",\"Add3(in Thousands)\",\"Add4(in Thousands)\",\"Add5(in Thousands)\"]]\n",
    "sns.boxplot(data=Dep_var)\n",
    "plt.xticks(rotation=10)\n",
    "plt.show()"
   ]
  },
  {
   "cell_type": "code",
   "execution_count": 18,
   "id": "6a08b784",
   "metadata": {},
   "outputs": [],
   "source": [
    "#We can see there are no outliers in the dataset"
   ]
  },
  {
   "cell_type": "code",
   "execution_count": 19,
   "id": "f56b09b2",
   "metadata": {},
   "outputs": [],
   "source": [
    "#Question 1 - check whether there is any relationship between the amount  spent for advertising \n",
    "# through five different companies and profit "
   ]
  },
  {
   "cell_type": "code",
   "execution_count": 20,
   "id": "afbf905f",
   "metadata": {},
   "outputs": [],
   "source": [
    "#Check the relation ship between the variables and target using visualisation"
   ]
  },
  {
   "cell_type": "code",
   "execution_count": 21,
   "id": "b2894196",
   "metadata": {},
   "outputs": [
    {
     "data": {
      "text/plain": [
       "<seaborn.axisgrid.PairGrid at 0x260c5375370>"
      ]
     },
     "execution_count": 21,
     "metadata": {},
     "output_type": "execute_result"
    },
    {
     "data": {
      "image/png": "[encoded data removed]",
      "text/plain": [
       "<Figure size 900x180 with 5 Axes>"
      ]
     },
     "metadata": {
      "needs_background": "light"
     },
     "output_type": "display_data"
    }
   ],
   "source": [
    "sns.pairplot(Ad_Sale, x_vars=[\"Add1(in Thousands)\",\"Add2(in Thousands)\",\"Add3(in Thousands)\",\"Add4(in Thousands)\",\"Add5(in Thousands)\"], y_vars=[\"Profit(in Thousands)\"], kind=\"scatter\")"
   ]
  },
  {
   "cell_type": "code",
   "execution_count": 22,
   "id": "f36a75a1",
   "metadata": {},
   "outputs": [],
   "source": [
    "#We have a linear relationship of variables with the target and also the data is continous "
   ]
  },
  {
   "cell_type": "code",
   "execution_count": 23,
   "id": "cbb219eb",
   "metadata": {},
   "outputs": [],
   "source": [
    "#The data is continous and follows normal distribution - so meeting the assumption of the Linear regression algorithm"
   ]
  },
  {
   "cell_type": "code",
   "execution_count": 24,
   "id": "20532341",
   "metadata": {},
   "outputs": [],
   "source": [
    "#Now till check using the heatmap and Correlation function"
   ]
  },
  {
   "cell_type": "code",
   "execution_count": 25,
   "id": "fdce7279",
   "metadata": {},
   "outputs": [
    {
     "data": {
      "text/plain": [
       "<AxesSubplot:>"
      ]
     },
     "execution_count": 25,
     "metadata": {},
     "output_type": "execute_result"
    },
    {
     "data": {
      "image/png": "[encoded data removed]",
      "text/plain": [
       "<Figure size 432x288 with 2 Axes>"
      ]
     },
     "metadata": {
      "needs_background": "light"
     },
     "output_type": "display_data"
    }
   ],
   "source": [
    "sns.heatmap(Ad_Sale.corr(),vmin = 0.96, vmax= 1,annot = True,linewidth =0.2,cmap = \"BuPu\")"
   ]
  },
  {
   "cell_type": "code",
   "execution_count": 26,
   "id": "8338b682",
   "metadata": {},
   "outputs": [],
   "source": [
    "#All the variables have high positive co relation with the profit variable\n",
    "#Add1 have positive co relation of 0.99 with the profit\n",
    "#Add2 have positive co relation of 1 with the profit- this is perfect positive relation\n",
    "#Add3 have positive co relation of 0.99 with the profit\n",
    "#Add4 have positive co relation of 0.99 with the profit\n",
    "#Add5 have positive co relation of 0.99 with the profit\n",
    "#From the above , the maximum co relation is between Add2 and Profit\n",
    "#All others have equal corelation of 0.99 with profit which is also very high"
   ]
  },
  {
   "cell_type": "code",
   "execution_count": 27,
   "id": "253ec639",
   "metadata": {},
   "outputs": [],
   "source": [
    "# Question 2- Build a regression model to predict the profit from the given data and comment your findings on it.\n"
   ]
  },
  {
   "cell_type": "code",
   "execution_count": 28,
   "id": "5474931d",
   "metadata": {},
   "outputs": [],
   "source": [
    "y=Ad_Sale[\"Profit(in Thousands)\"]\n",
    "x=Ad_Sale.drop([\"Profit(in Thousands)\",'Date'], axis = 1)"
   ]
  },
  {
   "cell_type": "code",
   "execution_count": 29,
   "id": "dc76cbe4",
   "metadata": {},
   "outputs": [],
   "source": [
    "from sklearn.model_selection import train_test_split\n",
    "X_train,X_test,y_train,y_test = train_test_split(x,y,random_state=42,test_size=0.25)\n",
    "\n",
    "from sklearn import linear_model\n",
    "\n",
    "lr = linear_model.LinearRegression() \n",
    "\n",
    "model = lr.fit(X_train,y_train) "
   ]
  },
  {
   "cell_type": "code",
   "execution_count": 30,
   "id": "b9f3b87d",
   "metadata": {},
   "outputs": [],
   "source": [
    "prediction = model.predict(X_test)"
   ]
  },
  {
   "cell_type": "code",
   "execution_count": 31,
   "id": "d64e60e6",
   "metadata": {},
   "outputs": [
    {
     "name": "stdout",
     "output_type": "stream",
     "text": [
      "Mean square Error is :  6.362927788869444e-25\n"
     ]
    }
   ],
   "source": [
    "from sklearn.metrics import mean_squared_error\n",
    "print('Mean square Error is : ',mean_squared_error(y_test,prediction))"
   ]
  },
  {
   "cell_type": "code",
   "execution_count": 32,
   "id": "11115fbb",
   "metadata": {},
   "outputs": [],
   "source": [
    "#Since the MSE is very low , better will be the line of fit"
   ]
  },
  {
   "cell_type": "code",
   "execution_count": 33,
   "id": "df9c0223",
   "metadata": {},
   "outputs": [],
   "source": [
    "Predicted=pd.DataFrame(prediction,columns=[\"Predicted Values\"])\n",
    "Predicted.index.name=\"Number\""
   ]
  },
  {
   "cell_type": "code",
   "execution_count": 34,
   "id": "32c8e88e",
   "metadata": {},
   "outputs": [],
   "source": [
    "Actual=pd.DataFrame(prediction,columns=[\"Actual values\"])\n",
    "Actual.index.name=\"Number\""
   ]
  },
  {
   "cell_type": "code",
   "execution_count": 35,
   "id": "5996ff7c",
   "metadata": {},
   "outputs": [
    {
     "data": {
      "text/html": [
       "<div>\n",
       "<style scoped>\n",
       "    .dataframe tbody tr th:only-of-type {\n",
       "        vertical-align: middle;\n",
       "    }\n",
       "\n",
       "    .dataframe tbody tr th {\n",
       "        vertical-align: top;\n",
       "    }\n",
       "\n",
       "    .dataframe thead th {\n",
       "        text-align: right;\n",
       "    }\n",
       "</style>\n",
       "<table border=\"1\" class=\"dataframe\">\n",
       "  <thead>\n",
       "    <tr style=\"text-align: right;\">\n",
       "      <th></th>\n",
       "      <th>Predicted Values</th>\n",
       "      <th>Actual values</th>\n",
       "    </tr>\n",
       "    <tr>\n",
       "      <th>Number</th>\n",
       "      <th></th>\n",
       "      <th></th>\n",
       "    </tr>\n",
       "  </thead>\n",
       "  <tbody>\n",
       "    <tr>\n",
       "      <th>0</th>\n",
       "      <td>4152.066</td>\n",
       "      <td>4152.066</td>\n",
       "    </tr>\n",
       "    <tr>\n",
       "      <th>1</th>\n",
       "      <td>4446.441</td>\n",
       "      <td>4446.441</td>\n",
       "    </tr>\n",
       "    <tr>\n",
       "      <th>2</th>\n",
       "      <td>5131.898</td>\n",
       "      <td>5131.898</td>\n",
       "    </tr>\n",
       "    <tr>\n",
       "      <th>3</th>\n",
       "      <td>4907.560</td>\n",
       "      <td>4907.560</td>\n",
       "    </tr>\n",
       "    <tr>\n",
       "      <th>4</th>\n",
       "      <td>5004.282</td>\n",
       "      <td>5004.282</td>\n",
       "    </tr>\n",
       "    <tr>\n",
       "      <th>5</th>\n",
       "      <td>4623.793</td>\n",
       "      <td>4623.793</td>\n",
       "    </tr>\n",
       "    <tr>\n",
       "      <th>6</th>\n",
       "      <td>5384.175</td>\n",
       "      <td>5384.175</td>\n",
       "    </tr>\n",
       "    <tr>\n",
       "      <th>7</th>\n",
       "      <td>5328.025</td>\n",
       "      <td>5328.025</td>\n",
       "    </tr>\n",
       "    <tr>\n",
       "      <th>8</th>\n",
       "      <td>5175.051</td>\n",
       "      <td>5175.051</td>\n",
       "    </tr>\n",
       "    <tr>\n",
       "      <th>9</th>\n",
       "      <td>5956.323</td>\n",
       "      <td>5956.323</td>\n",
       "    </tr>\n",
       "  </tbody>\n",
       "</table>\n",
       "</div>"
      ],
      "text/plain": [
       "        Predicted Values  Actual values\n",
       "Number                                 \n",
       "0               4152.066       4152.066\n",
       "1               4446.441       4446.441\n",
       "2               5131.898       5131.898\n",
       "3               4907.560       4907.560\n",
       "4               5004.282       5004.282\n",
       "5               4623.793       4623.793\n",
       "6               5384.175       5384.175\n",
       "7               5328.025       5328.025\n",
       "8               5175.051       5175.051\n",
       "9               5956.323       5956.323"
      ]
     },
     "execution_count": 35,
     "metadata": {},
     "output_type": "execute_result"
    }
   ],
   "source": [
    "combined=pd.merge(Predicted,Actual,on=\"Number\",how=\"left\")\n",
    "combined.head(10)"
   ]
  },
  {
   "cell_type": "code",
   "execution_count": 36,
   "id": "34548037",
   "metadata": {},
   "outputs": [],
   "source": [
    "#Based on the prediction and MSE , we can see that the data is best fit and have more accuracy and matching \n",
    "#The predicted and actual values are matching "
   ]
  },
  {
   "cell_type": "code",
   "execution_count": 37,
   "id": "38f0580e",
   "metadata": {},
   "outputs": [],
   "source": [
    "#Question 3 - Predict the profit generated by the company, if they wish to spend the following amount for advertisement\n",
    "#Add1(in Thousands) 290\n",
    "#Add2(in Thousands) 312\n",
    "#Add3(in Thousands) 309\n",
    "#Add4(in Thousands) 298\n",
    "#Add5(in Thousands) 320"
   ]
  },
  {
   "cell_type": "code",
   "execution_count": 38,
   "id": "cc844d14",
   "metadata": {},
   "outputs": [
    {
     "name": "stdout",
     "output_type": "stream",
     "text": [
      "The profit forecasted from the given values from 5 companies is  [5820.06]\n"
     ]
    }
   ],
   "source": [
    "Forecast_values=np.array([290,312,309,298,320]).reshape(1,5)\n",
    "Forecast_Profit=model.predict(Forecast_values)\n",
    "print(\"The profit forecasted from the given values from 5 companies is \" ,Forecast_Profit)"
   ]
  },
  {
   "cell_type": "code",
   "execution_count": null,
   "id": "66a8c530",
   "metadata": {},
   "outputs": [],
   "source": []
  }
 ],
 "metadata": {
  "kernelspec": {
   "display_name": "Python 3 (ipykernel)",
   "language": "python",
   "name": "python3"
  },
  "language_info": {
   "codemirror_mode": {
    "name": "ipython",
    "version": 3
   },
   "file_extension": ".py",
   "mimetype": "text/x-python",
   "name": "python",
   "nbconvert_exporter": "python",
   "pygments_lexer": "ipython3",
   "version": "3.9.7"
  }
 },
 "nbformat": 4,
 "nbformat_minor": 5
}
