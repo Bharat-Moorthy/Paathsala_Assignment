{
 "cells": [
  {
   "cell_type": "code",
   "execution_count": 1,
   "id": "9144d63a",
   "metadata": {},
   "outputs": [],
   "source": [
    "import pandas as pd\n",
    "import numpy as np\n",
    "import matplotlib.pyplot as plt\n",
    "import seaborn as sns\n",
    "import scipy.stats as stats"
   ]
  },
  {
   "cell_type": "code",
   "execution_count": 2,
   "id": "fb607064",
   "metadata": {},
   "outputs": [],
   "source": [
    "Sales=pd.read_csv(r\"D:\\DSA - ICT\\Week 7\\Case study\\Sales_add.csv\")"
   ]
  },
  {
   "cell_type": "code",
   "execution_count": 3,
   "id": "b4ce2984",
   "metadata": {},
   "outputs": [],
   "source": [
    "#To check the data set information "
   ]
  },
  {
   "cell_type": "code",
   "execution_count": 4,
   "id": "f2331130",
   "metadata": {},
   "outputs": [
    {
     "name": "stdout",
     "output_type": "stream",
     "text": [
      "<class 'pandas.core.frame.DataFrame'>\n",
      "RangeIndex: 22 entries, 0 to 21\n",
      "Data columns (total 5 columns):\n",
      " #   Column                          Non-Null Count  Dtype \n",
      "---  ------                          --------------  ----- \n",
      " 0   Month                           22 non-null     object\n",
      " 1   Region                          22 non-null     object\n",
      " 2   Manager                         22 non-null     object\n",
      " 3   Sales_before_digital_add(in $)  22 non-null     int64 \n",
      " 4   Sales_After_digital_add(in $)   22 non-null     int64 \n",
      "dtypes: int64(2), object(3)\n",
      "memory usage: 1008.0+ bytes\n"
     ]
    }
   ],
   "source": [
    "Sales.info()"
   ]
  },
  {
   "cell_type": "code",
   "execution_count": 5,
   "id": "a5c8e2fc",
   "metadata": {},
   "outputs": [],
   "source": [
    "#To check the data set "
   ]
  },
  {
   "cell_type": "code",
   "execution_count": 6,
   "id": "97dab32e",
   "metadata": {},
   "outputs": [
    {
     "data": {
      "text/html": [
       "<div>\n",
       "<style scoped>\n",
       "    .dataframe tbody tr th:only-of-type {\n",
       "        vertical-align: middle;\n",
       "    }\n",
       "\n",
       "    .dataframe tbody tr th {\n",
       "        vertical-align: top;\n",
       "    }\n",
       "\n",
       "    .dataframe thead th {\n",
       "        text-align: right;\n",
       "    }\n",
       "</style>\n",
       "<table border=\"1\" class=\"dataframe\">\n",
       "  <thead>\n",
       "    <tr style=\"text-align: right;\">\n",
       "      <th></th>\n",
       "      <th>Manager</th>\n",
       "      <th>Manager - A</th>\n",
       "      <th>Manager - B</th>\n",
       "      <th>Manager - C</th>\n",
       "    </tr>\n",
       "  </thead>\n",
       "  <tbody>\n",
       "    <tr>\n",
       "      <th rowspan=\"8\" valign=\"top\">Sales_before_digital_add(in $)</th>\n",
       "      <th>count</th>\n",
       "      <td>9.000000</td>\n",
       "      <td>7.000000</td>\n",
       "      <td>6.000000</td>\n",
       "    </tr>\n",
       "    <tr>\n",
       "      <th>mean</th>\n",
       "      <td>145875.222222</td>\n",
       "      <td>155499.285714</td>\n",
       "      <td>146984.500000</td>\n",
       "    </tr>\n",
       "    <tr>\n",
       "      <th>std</th>\n",
       "      <td>14596.609108</td>\n",
       "      <td>14040.774584</td>\n",
       "      <td>16329.359323</td>\n",
       "    </tr>\n",
       "    <tr>\n",
       "      <th>min</th>\n",
       "      <td>131140.000000</td>\n",
       "      <td>137163.000000</td>\n",
       "      <td>130263.000000</td>\n",
       "    </tr>\n",
       "    <tr>\n",
       "      <th>25%</th>\n",
       "      <td>132921.000000</td>\n",
       "      <td>147061.500000</td>\n",
       "      <td>133184.250000</td>\n",
       "    </tr>\n",
       "    <tr>\n",
       "      <th>50%</th>\n",
       "      <td>146278.000000</td>\n",
       "      <td>152493.000000</td>\n",
       "      <td>145210.500000</td>\n",
       "    </tr>\n",
       "    <tr>\n",
       "      <th>75%</th>\n",
       "      <td>147463.000000</td>\n",
       "      <td>163760.500000</td>\n",
       "      <td>156894.000000</td>\n",
       "    </tr>\n",
       "    <tr>\n",
       "      <th>max</th>\n",
       "      <td>178939.000000</td>\n",
       "      <td>177195.000000</td>\n",
       "      <td>171259.000000</td>\n",
       "    </tr>\n",
       "    <tr>\n",
       "      <th rowspan=\"8\" valign=\"top\">Sales_After_digital_add(in $)</th>\n",
       "      <th>count</th>\n",
       "      <td>9.000000</td>\n",
       "      <td>7.000000</td>\n",
       "      <td>6.000000</td>\n",
       "    </tr>\n",
       "    <tr>\n",
       "      <th>mean</th>\n",
       "      <td>244402.666667</td>\n",
       "      <td>218899.142857</td>\n",
       "      <td>225467.333333</td>\n",
       "    </tr>\n",
       "    <tr>\n",
       "      <th>std</th>\n",
       "      <td>23410.660221</td>\n",
       "      <td>30539.536525</td>\n",
       "      <td>13495.554819</td>\n",
       "    </tr>\n",
       "    <tr>\n",
       "      <th>min</th>\n",
       "      <td>205180.000000</td>\n",
       "      <td>187305.000000</td>\n",
       "      <td>203175.000000</td>\n",
       "    </tr>\n",
       "    <tr>\n",
       "      <th>25%</th>\n",
       "      <td>229336.000000</td>\n",
       "      <td>192626.000000</td>\n",
       "      <td>222413.000000</td>\n",
       "    </tr>\n",
       "    <tr>\n",
       "      <th>50%</th>\n",
       "      <td>244243.000000</td>\n",
       "      <td>212579.000000</td>\n",
       "      <td>224797.500000</td>\n",
       "    </tr>\n",
       "    <tr>\n",
       "      <th>75%</th>\n",
       "      <td>263388.000000</td>\n",
       "      <td>244378.000000</td>\n",
       "      <td>232746.250000</td>\n",
       "    </tr>\n",
       "    <tr>\n",
       "      <th>max</th>\n",
       "      <td>276279.000000</td>\n",
       "      <td>258402.000000</td>\n",
       "      <td>243020.000000</td>\n",
       "    </tr>\n",
       "  </tbody>\n",
       "</table>\n",
       "</div>"
      ],
      "text/plain": [
       "Manager                                 Manager - A    Manager - B  \\\n",
       "Sales_before_digital_add(in $) count       9.000000       7.000000   \n",
       "                               mean   145875.222222  155499.285714   \n",
       "                               std     14596.609108   14040.774584   \n",
       "                               min    131140.000000  137163.000000   \n",
       "                               25%    132921.000000  147061.500000   \n",
       "                               50%    146278.000000  152493.000000   \n",
       "                               75%    147463.000000  163760.500000   \n",
       "                               max    178939.000000  177195.000000   \n",
       "Sales_After_digital_add(in $)  count       9.000000       7.000000   \n",
       "                               mean   244402.666667  218899.142857   \n",
       "                               std     23410.660221   30539.536525   \n",
       "                               min    205180.000000  187305.000000   \n",
       "                               25%    229336.000000  192626.000000   \n",
       "                               50%    244243.000000  212579.000000   \n",
       "                               75%    263388.000000  244378.000000   \n",
       "                               max    276279.000000  258402.000000   \n",
       "\n",
       "Manager                                 Manager - C  \n",
       "Sales_before_digital_add(in $) count       6.000000  \n",
       "                               mean   146984.500000  \n",
       "                               std     16329.359323  \n",
       "                               min    130263.000000  \n",
       "                               25%    133184.250000  \n",
       "                               50%    145210.500000  \n",
       "                               75%    156894.000000  \n",
       "                               max    171259.000000  \n",
       "Sales_After_digital_add(in $)  count       6.000000  \n",
       "                               mean   225467.333333  \n",
       "                               std     13495.554819  \n",
       "                               min    203175.000000  \n",
       "                               25%    222413.000000  \n",
       "                               50%    224797.500000  \n",
       "                               75%    232746.250000  \n",
       "                               max    243020.000000  "
      ]
     },
     "execution_count": 6,
     "metadata": {},
     "output_type": "execute_result"
    }
   ],
   "source": [
    "Sales.groupby(\"Manager\").describe().T"
   ]
  },
  {
   "cell_type": "code",
   "execution_count": 7,
   "id": "dad80c63",
   "metadata": {},
   "outputs": [
    {
     "data": {
      "text/html": [
       "<div>\n",
       "<style scoped>\n",
       "    .dataframe tbody tr th:only-of-type {\n",
       "        vertical-align: middle;\n",
       "    }\n",
       "\n",
       "    .dataframe tbody tr th {\n",
       "        vertical-align: top;\n",
       "    }\n",
       "\n",
       "    .dataframe thead tr th {\n",
       "        text-align: left;\n",
       "    }\n",
       "\n",
       "    .dataframe thead tr:last-of-type th {\n",
       "        text-align: right;\n",
       "    }\n",
       "</style>\n",
       "<table border=\"1\" class=\"dataframe\">\n",
       "  <thead>\n",
       "    <tr>\n",
       "      <th></th>\n",
       "      <th colspan=\"5\" halign=\"left\">Sales_before_digital_add(in $)</th>\n",
       "      <th colspan=\"5\" halign=\"left\">Sales_After_digital_add(in $)</th>\n",
       "    </tr>\n",
       "    <tr>\n",
       "      <th></th>\n",
       "      <th>mean</th>\n",
       "      <th>max</th>\n",
       "      <th>min</th>\n",
       "      <th>median</th>\n",
       "      <th>std</th>\n",
       "      <th>mean</th>\n",
       "      <th>max</th>\n",
       "      <th>min</th>\n",
       "      <th>median</th>\n",
       "      <th>std</th>\n",
       "    </tr>\n",
       "    <tr>\n",
       "      <th>Manager</th>\n",
       "      <th></th>\n",
       "      <th></th>\n",
       "      <th></th>\n",
       "      <th></th>\n",
       "      <th></th>\n",
       "      <th></th>\n",
       "      <th></th>\n",
       "      <th></th>\n",
       "      <th></th>\n",
       "      <th></th>\n",
       "    </tr>\n",
       "  </thead>\n",
       "  <tbody>\n",
       "    <tr>\n",
       "      <th>Manager - A</th>\n",
       "      <td>145875.222222</td>\n",
       "      <td>178939</td>\n",
       "      <td>131140</td>\n",
       "      <td>146278.0</td>\n",
       "      <td>14596.609108</td>\n",
       "      <td>244402.666667</td>\n",
       "      <td>276279</td>\n",
       "      <td>205180</td>\n",
       "      <td>244243.0</td>\n",
       "      <td>23410.660221</td>\n",
       "    </tr>\n",
       "    <tr>\n",
       "      <th>Manager - B</th>\n",
       "      <td>155499.285714</td>\n",
       "      <td>177195</td>\n",
       "      <td>137163</td>\n",
       "      <td>152493.0</td>\n",
       "      <td>14040.774584</td>\n",
       "      <td>218899.142857</td>\n",
       "      <td>258402</td>\n",
       "      <td>187305</td>\n",
       "      <td>212579.0</td>\n",
       "      <td>30539.536525</td>\n",
       "    </tr>\n",
       "    <tr>\n",
       "      <th>Manager - C</th>\n",
       "      <td>146984.500000</td>\n",
       "      <td>171259</td>\n",
       "      <td>130263</td>\n",
       "      <td>145210.5</td>\n",
       "      <td>16329.359323</td>\n",
       "      <td>225467.333333</td>\n",
       "      <td>243020</td>\n",
       "      <td>203175</td>\n",
       "      <td>224797.5</td>\n",
       "      <td>13495.554819</td>\n",
       "    </tr>\n",
       "  </tbody>\n",
       "</table>\n",
       "</div>"
      ],
      "text/plain": [
       "            Sales_before_digital_add(in $)                            \\\n",
       "                                      mean     max     min    median   \n",
       "Manager                                                                \n",
       "Manager - A                  145875.222222  178939  131140  146278.0   \n",
       "Manager - B                  155499.285714  177195  137163  152493.0   \n",
       "Manager - C                  146984.500000  171259  130263  145210.5   \n",
       "\n",
       "                          Sales_After_digital_add(in $)                  \\\n",
       "                      std                          mean     max     min   \n",
       "Manager                                                                   \n",
       "Manager - A  14596.609108                 244402.666667  276279  205180   \n",
       "Manager - B  14040.774584                 218899.142857  258402  187305   \n",
       "Manager - C  16329.359323                 225467.333333  243020  203175   \n",
       "\n",
       "                                     \n",
       "               median           std  \n",
       "Manager                              \n",
       "Manager - A  244243.0  23410.660221  \n",
       "Manager - B  212579.0  30539.536525  \n",
       "Manager - C  224797.5  13495.554819  "
      ]
     },
     "execution_count": 7,
     "metadata": {},
     "output_type": "execute_result"
    }
   ],
   "source": [
    "Sales.groupby(\"Manager\").agg({\"Sales_before_digital_add(in $)\":[\"mean\",\"max\",\"min\",\"median\",\"std\"],\"Sales_After_digital_add(in $)\":[\"mean\",\"max\",\"min\",\"median\",\"std\"]})"
   ]
  },
  {
   "cell_type": "code",
   "execution_count": 8,
   "id": "1a8c6648",
   "metadata": {},
   "outputs": [],
   "source": [
    "#The company wishes to clarify whether there is any increase in sales after stepping into digital marketing"
   ]
  },
  {
   "cell_type": "code",
   "execution_count": 9,
   "id": "e9df6020",
   "metadata": {},
   "outputs": [],
   "source": [
    "#Assume Null hypothesis as no increase in sales after stepping into digital marketing\n",
    "#Alternate hypothesis is there is increase in sales after stepping into digital marketing"
   ]
  },
  {
   "cell_type": "code",
   "execution_count": 10,
   "id": "703e95dc",
   "metadata": {},
   "outputs": [],
   "source": [
    "SBD=Sales[\"Sales_before_digital_add(in $)\"]\n",
    "SAD=Sales[\"Sales_After_digital_add(in $)\"]"
   ]
  },
  {
   "cell_type": "code",
   "execution_count": 11,
   "id": "0f360d06",
   "metadata": {},
   "outputs": [],
   "source": [
    "#To check the assumption of normal distribution and equal variance for t test "
   ]
  },
  {
   "cell_type": "code",
   "execution_count": 12,
   "id": "32e121bf",
   "metadata": {},
   "outputs": [
    {
     "data": {
      "text/plain": [
       "Text(0, 0.5, 'Frequency')"
      ]
     },
     "execution_count": 12,
     "metadata": {},
     "output_type": "execute_result"
    },
    {
     "data": {
      "image/png": "[encoded data removed]",
      "text/plain": [
       "<Figure size 432x288 with 1 Axes>"
      ]
     },
     "metadata": {
      "needs_background": "light"
     },
     "output_type": "display_data"
    }
   ],
   "source": [
    "SBD.hist(rwidth=0.9)\n",
    "plt.title(\"Histogram of Sales before Digital addition\")\n",
    "plt.xlabel(\"Sales before Digital addition\")\n",
    "plt.ylabel(\"Frequency\")"
   ]
  },
  {
   "cell_type": "code",
   "execution_count": 13,
   "id": "1cc4e9ea",
   "metadata": {},
   "outputs": [
    {
     "data": {
      "text/plain": [
       "Text(0, 0.5, 'Frequency')"
      ]
     },
     "execution_count": 13,
     "metadata": {},
     "output_type": "execute_result"
    },
    {
     "data": {
      "image/png": "[encoded data removed]",
      "text/plain": [
       "<Figure size 432x288 with 1 Axes>"
      ]
     },
     "metadata": {
      "needs_background": "light"
     },
     "output_type": "display_data"
    }
   ],
   "source": [
    "SAD.hist(rwidth=0.9)\n",
    "plt.title(\"Histogram of Sales after Digital addition\")\n",
    "plt.xlabel(\"Sales after Digital addition\")\n",
    "plt.ylabel(\"Frequency\")"
   ]
  },
  {
   "cell_type": "code",
   "execution_count": 14,
   "id": "5d7b873a",
   "metadata": {},
   "outputs": [],
   "source": [
    "#Normal distribution check"
   ]
  },
  {
   "cell_type": "code",
   "execution_count": 15,
   "id": "6b73a708",
   "metadata": {},
   "outputs": [
    {
     "data": {
      "text/plain": [
       "ShapiroResult(statistic=0.9306764006614685, pvalue=0.12674309313297272)"
      ]
     },
     "execution_count": 15,
     "metadata": {},
     "output_type": "execute_result"
    }
   ],
   "source": [
    "stats.shapiro(SBD)"
   ]
  },
  {
   "cell_type": "code",
   "execution_count": 16,
   "id": "d6acf846",
   "metadata": {},
   "outputs": [
    {
     "data": {
      "text/plain": [
       "ShapiroResult(statistic=0.9702128767967224, pvalue=0.7159645557403564)"
      ]
     },
     "execution_count": 16,
     "metadata": {},
     "output_type": "execute_result"
    }
   ],
   "source": [
    "stats.shapiro(SAD)"
   ]
  },
  {
   "cell_type": "code",
   "execution_count": 17,
   "id": "196cd94c",
   "metadata": {},
   "outputs": [],
   "source": [
    "#Here in both above cases , p values is greater than 0.05 alpha value , hence the distribution is normal "
   ]
  },
  {
   "cell_type": "code",
   "execution_count": 18,
   "id": "5e3b9e6b",
   "metadata": {},
   "outputs": [],
   "source": [
    "#Equal variance check"
   ]
  },
  {
   "cell_type": "code",
   "execution_count": 19,
   "id": "132d6fc1",
   "metadata": {},
   "outputs": [
    {
     "data": {
      "text/plain": [
       "LeveneResult(statistic=5.171664124853503, pvalue=0.028130575490495715)"
      ]
     },
     "execution_count": 19,
     "metadata": {},
     "output_type": "execute_result"
    }
   ],
   "source": [
    "stats.levene(SBD,SAD,center=\"mean\")"
   ]
  },
  {
   "cell_type": "code",
   "execution_count": 20,
   "id": "4c4bcb1a",
   "metadata": {},
   "outputs": [],
   "source": [
    "#Here the p value is less than alpha value of 0.05 , hence the variance is not equal \n",
    "#So we need to use welch t test for unequal variance"
   ]
  },
  {
   "cell_type": "code",
   "execution_count": 21,
   "id": "0e2644d4",
   "metadata": {},
   "outputs": [
    {
     "name": "stdout",
     "output_type": "stream",
     "text": [
      "T statistics value is  -12.995084451110877\n",
      "p value is  1.1019671619608604e-14\n"
     ]
    }
   ],
   "source": [
    "t_stat,p_value=stats.ttest_ind(SBD,SAD,equal_var=False)\n",
    "print(\"T statistics value is \", t_stat)\n",
    "print(\"p value is \",p_value)"
   ]
  },
  {
   "cell_type": "code",
   "execution_count": 22,
   "id": "33548dd0",
   "metadata": {},
   "outputs": [
    {
     "name": "stdout",
     "output_type": "stream",
     "text": [
      "Degree of Freedom is 441\n"
     ]
    }
   ],
   "source": [
    "Dof=(len(SBD)-1)*(len(SAD)-1)\n",
    "print(\"Degree of Freedom is\",Dof)"
   ]
  },
  {
   "cell_type": "code",
   "execution_count": 23,
   "id": "466ee459",
   "metadata": {},
   "outputs": [
    {
     "name": "stdout",
     "output_type": "stream",
     "text": [
      "T critical value is  1.9653578272029777\n"
     ]
    }
   ],
   "source": [
    "t_critical = stats.t.ppf(q=1-0.05/2, df=Dof)\n",
    "print(\"T critical value is \",t_critical)"
   ]
  },
  {
   "cell_type": "code",
   "execution_count": 24,
   "id": "d1d63c82",
   "metadata": {},
   "outputs": [
    {
     "name": "stdout",
     "output_type": "stream",
     "text": [
      "We can reject the null hypothesis and confirm there is improvement after stepping into digital marketing\n"
     ]
    }
   ],
   "source": [
    "if (abs(t_stat)>t_critical)&(p_value<0.05):\n",
    "    print('We can reject the null hypothesis and confirm there is improvement after stepping into digital marketing')\n",
    "else:\n",
    "    print('we can accept null hypothesis and confirm there is no improvement')"
   ]
  },
  {
   "cell_type": "code",
   "execution_count": 25,
   "id": "32e1c015",
   "metadata": {},
   "outputs": [],
   "source": [
    "# Here the p value is less than 0.05 and t statistic value is greater than t critical value\n",
    "# Hence we can reject the null hypothesis \n",
    "# We can confirm there is a improvement in sales after stepping into Digital marketing"
   ]
  },
  {
   "cell_type": "code",
   "execution_count": 26,
   "id": "60650126",
   "metadata": {},
   "outputs": [],
   "source": [
    "#Plot showing sales before and after digital marketing addition"
   ]
  },
  {
   "cell_type": "code",
   "execution_count": 27,
   "id": "3ad37535",
   "metadata": {},
   "outputs": [
    {
     "data": {
      "image/png": "[encoded data removed]",
      "text/plain": [
       "<Figure size 432x288 with 1 Axes>"
      ]
     },
     "metadata": {
      "needs_background": "light"
     },
     "output_type": "display_data"
    }
   ],
   "source": [
    "plt.figsize=(10,8)\n",
    "plt.plot(Sales[\"Sales_before_digital_add(in $)\"])\n",
    "plt.plot(Sales[\"Sales_After_digital_add(in $)\"])\n",
    "plt.legend([\"Sales_before_digital_add(in $)\",\"Sales_After_digital_add(in $)\"],bbox_to_anchor=(1, 1))\n",
    "plt.xticks(np.arange(1,26,2))\n",
    "plt.show()"
   ]
  },
  {
   "cell_type": "code",
   "execution_count": 28,
   "id": "37510ff0",
   "metadata": {},
   "outputs": [],
   "source": [
    "#We can see from the plot that sales after digital add is more than sales before digital add \n",
    "#This shows that there is improvement after digital marketing"
   ]
  },
  {
   "cell_type": "code",
   "execution_count": 29,
   "id": "d435071f",
   "metadata": {},
   "outputs": [],
   "source": [
    "#to check whether there is any dependency between the features “Region” and “Manager”"
   ]
  },
  {
   "cell_type": "code",
   "execution_count": 30,
   "id": "ded825ad",
   "metadata": {},
   "outputs": [
    {
     "data": {
      "text/html": [
       "<div>\n",
       "<style scoped>\n",
       "    .dataframe tbody tr th:only-of-type {\n",
       "        vertical-align: middle;\n",
       "    }\n",
       "\n",
       "    .dataframe tbody tr th {\n",
       "        vertical-align: top;\n",
       "    }\n",
       "\n",
       "    .dataframe thead th {\n",
       "        text-align: right;\n",
       "    }\n",
       "</style>\n",
       "<table border=\"1\" class=\"dataframe\">\n",
       "  <thead>\n",
       "    <tr style=\"text-align: right;\">\n",
       "      <th>Manager</th>\n",
       "      <th>Manager - A</th>\n",
       "      <th>Manager - B</th>\n",
       "      <th>Manager - C</th>\n",
       "    </tr>\n",
       "    <tr>\n",
       "      <th>Region</th>\n",
       "      <th></th>\n",
       "      <th></th>\n",
       "      <th></th>\n",
       "    </tr>\n",
       "  </thead>\n",
       "  <tbody>\n",
       "    <tr>\n",
       "      <th>Region - A</th>\n",
       "      <td>4</td>\n",
       "      <td>3</td>\n",
       "      <td>3</td>\n",
       "    </tr>\n",
       "    <tr>\n",
       "      <th>Region - B</th>\n",
       "      <td>4</td>\n",
       "      <td>1</td>\n",
       "      <td>2</td>\n",
       "    </tr>\n",
       "    <tr>\n",
       "      <th>Region - C</th>\n",
       "      <td>1</td>\n",
       "      <td>3</td>\n",
       "      <td>1</td>\n",
       "    </tr>\n",
       "  </tbody>\n",
       "</table>\n",
       "</div>"
      ],
      "text/plain": [
       "Manager     Manager - A  Manager - B  Manager - C\n",
       "Region                                           \n",
       "Region - A            4            3            3\n",
       "Region - B            4            1            2\n",
       "Region - C            1            3            1"
      ]
     },
     "execution_count": 30,
     "metadata": {},
     "output_type": "execute_result"
    }
   ],
   "source": [
    "Dep=pd.crosstab(Sales[\"Region\"], Sales[\"Manager\"])\n",
    "Dep"
   ]
  },
  {
   "cell_type": "code",
   "execution_count": 31,
   "id": "4037239a",
   "metadata": {},
   "outputs": [],
   "source": [
    "#Null hypothesis: variables are independent\n",
    "#Alternate hypothesis:variables are dependent"
   ]
  },
  {
   "cell_type": "code",
   "execution_count": 32,
   "id": "a11b0b6a",
   "metadata": {},
   "outputs": [
    {
     "data": {
      "text/plain": [
       "(3.050566893424036,\n",
       " 0.5493991051158094,\n",
       " 4,\n",
       " array([[4.09090909, 3.18181818, 2.72727273],\n",
       "        [2.86363636, 2.22727273, 1.90909091],\n",
       "        [2.04545455, 1.59090909, 1.36363636]]))"
      ]
     },
     "execution_count": 32,
     "metadata": {},
     "output_type": "execute_result"
    }
   ],
   "source": [
    "Chi=stats.chi2_contingency(Dep)\n",
    "Chi"
   ]
  },
  {
   "cell_type": "code",
   "execution_count": 33,
   "id": "5f8f111c",
   "metadata": {},
   "outputs": [
    {
     "name": "stdout",
     "output_type": "stream",
     "text": [
      "Chi square statistics value is 3.050566893424036\n",
      "p value is  0.5493991051158094\n",
      "significant level is alpha =  0.05\n",
      "Degree of freedom is 4\n"
     ]
    }
   ],
   "source": [
    "Chi_Stat_value=Chi[0]\n",
    "p_val=Chi[1]\n",
    "d_o_f=Chi[2]\n",
    "alpha=0.05\n",
    "print(\"Chi square statistics value is\",Chi_Stat_value)\n",
    "print(\"p value is \",p_val)\n",
    "print(\"significant level is alpha = \",alpha)\n",
    "print(\"Degree of freedom is\",d_o_f)"
   ]
  },
  {
   "cell_type": "code",
   "execution_count": 34,
   "id": "09ecbc31",
   "metadata": {},
   "outputs": [
    {
     "name": "stdout",
     "output_type": "stream",
     "text": [
      "Critical value of Chi square test is  9.487729036781154\n"
     ]
    }
   ],
   "source": [
    "Chi_critical=stats.chi2.ppf(q=1-alpha,df=d_o_f)\n",
    "print(\"Critical value of Chi square test is \" ,Chi_critical)"
   ]
  },
  {
   "cell_type": "code",
   "execution_count": 35,
   "id": "3b82d481",
   "metadata": {},
   "outputs": [
    {
     "name": "stdout",
     "output_type": "stream",
     "text": [
      "Fail to reject null hypothesis and there is no dependency between 2 variables\n"
     ]
    }
   ],
   "source": [
    "if(Chi_Stat_value>=Chi_critical)&(p_val<=alpha):\n",
    "    print(\"Reject null hypothesis and there is dependency between variables\")\n",
    "else:\n",
    "    print(\"Fail to reject null hypothesis and there is no dependency between 2 variables\")"
   ]
  },
  {
   "cell_type": "code",
   "execution_count": 36,
   "id": "afc554ef",
   "metadata": {},
   "outputs": [],
   "source": [
    "#P value of 0.5493 is greater than 0.05 and Chi square statistic value is greater than Chi critical\n",
    "# we fail to reject the null hypothesis and the variables are independent"
   ]
  },
  {
   "cell_type": "code",
   "execution_count": null,
   "id": "c1129aad",
   "metadata": {},
   "outputs": [],
   "source": []
  }
 ],
 "metadata": {
  "kernelspec": {
   "display_name": "Python 3 (ipykernel)",
   "language": "python",
   "name": "python3"
  },
  "language_info": {
   "codemirror_mode": {
    "name": "ipython",
    "version": 3
   },
   "file_extension": ".py",
   "mimetype": "text/x-python",
   "name": "python",
   "nbconvert_exporter": "python",
   "pygments_lexer": "ipython3",
   "version": "3.9.7"
  }
 },
 "nbformat": 4,
 "nbformat_minor": 5
}
